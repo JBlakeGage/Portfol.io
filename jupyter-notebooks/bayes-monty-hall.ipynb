{
 "cells": [
  {
   "cell_type": "code",
   "execution_count": 1,
   "metadata": {
    "collapsed": true
   },
   "outputs": [],
   "source": [
    "# Let's start with a classic; the \"Monty Hall problem\".\n",
    "# The show's guest has three doors to choose from: A, B & C.\n",
    "# So, the probability that a prize is behind any of these\n",
    "# doors is P(A) = P(B) = P(C) = 1/3.\n",
    "\n",
    "# Monty will not open the door with the prize behind it, nor\n",
    "# will he open the door immediately chose by the contestant.\n",
    "# That leaves two possible doors. From the contestant's \n",
    "# perspective, it's equally likely for Monty to choose\n",
    "# one over the other. Thus, the marginal likelyhood is\n",
    "# P(E) = 1/2.\n",
    "\n",
    "# Our hypothesis is threefold: we're interested in the\n",
    "# probability of the prize being behind a given door\n",
    "# as each door is opened by Monty. \n",
    "\n",
    "# Hypothesis A: The prize is behind the first door. The \n",
    "# \"prior\" of this problem is the probability of the prize \n",
    "# being behind this door, absent any other data we have.\n",
    "# P(A) = 1/3. \n",
    "\n",
    "# The marginal likelihood is the probability that\n",
    "# Monty chooses a given door irrespective of any other \n",
    "# data. As stated above, that is P(E) = 1/2.\n",
    "\n",
    "# The likelihood that Monty chooses the third door given\n",
    "# that the prize is behind the first door is 1/2. P(E|A) = 1/2\n",
    "\n",
    "# Now we can calculate the posterior:\n",
    "# P(A|E) = (P(E|A) * P(A)) / P(E) = (1/2 * 1/3) / (1/2) = 1/3.\n",
    "\n",
    "# Hypothesis B: \n",
    "# The marginal likelihood is the same as before. The prior is still\n",
    "# 1/3. However, the likelihood has changed. If we assume that the \n",
    "# prize is behind the second door, Monty has no choice but to open \n",
    "# the third door (since he'll never open the door with the prize).\n",
    "# Thus P(E|B) = 1\n",
    "\n",
    "# Our posterior is thus:\n",
    "# P(B|E) = (P(E|B) * P(B)) / P(E) = (1 * 1/3) / (1/2) = 2/3.\n",
    "\n",
    "# In terms of Bayesian inference, we can state that our belief in \n",
    "# this hypothesis is stronger than our belief in A (since 1/3 is \n",
    "# less the 2/3). Let's see if this can be programmatically derived.\n",
    "\n",
    "# Now, to program....!!!\n"
   ]
  },
  {
   "cell_type": "code",
   "execution_count": 2,
   "metadata": {},
   "outputs": [],
   "source": [
    "import pomegranate as pg"
   ]
  },
  {
   "cell_type": "code",
   "execution_count": 3,
   "metadata": {
    "collapsed": true
   },
   "outputs": [],
   "source": [
    "DISTRIBUTION_CONST = 1./3\n",
    "guest_door = pg.DiscreteDistribution({'A': DISTRIBUTION_CONST,\n",
    "                                      'B': DISTRIBUTION_CONST,\n",
    "                                      'C': DISTRIBUTION_CONST})\n",
    "prize_door = pg.DiscreteDistribution({'A': DISTRIBUTION_CONST,\n",
    "                                      'B': DISTRIBUTION_CONST,\n",
    "                                      'C': DISTRIBUTION_CONST})"
   ]
  },
  {
   "cell_type": "code",
   "execution_count": 4,
   "metadata": {
    "collapsed": true
   },
   "outputs": [],
   "source": [
    "monty_door = pg.ConditionalProbabilityTable(\n",
    "        [['A', 'A', 'A', 0.0],\n",
    "         ['A', 'A', 'B', 0.5],\n",
    "         ['A', 'A', 'C', 0.5],\n",
    "         ['A', 'B', 'A', 0.0],\n",
    "         ['A', 'B', 'B', 0.0],\n",
    "         ['A', 'B', 'C', 1.0],\n",
    "         ['A', 'C', 'A', 0.0],\n",
    "         ['A', 'C', 'B', 1.0],\n",
    "         ['A', 'C', 'C', 0.0],\n",
    "         ['B', 'A', 'A', 0.0],\n",
    "         ['B', 'A', 'B', 0.0],\n",
    "         ['B', 'A', 'C', 1.0],\n",
    "         ['B', 'B', 'A', 0.5],\n",
    "         ['B', 'B', 'B', 0.0],\n",
    "         ['B', 'B', 'C', 0.5],\n",
    "         ['B', 'C', 'A', 1.0],\n",
    "         ['B', 'C', 'B', 0.0],\n",
    "         ['B', 'C', 'C', 0.0],\n",
    "         ['C', 'A', 'A', 0.0],\n",
    "         ['C', 'A', 'B', 1.0],\n",
    "         ['C', 'A', 'C', 0.0],\n",
    "         ['C', 'B', 'A', 1.0],\n",
    "         ['C', 'B', 'B', 0.0],\n",
    "         ['C', 'B', 'C', 0.0],\n",
    "         ['C', 'C', 'A', 0.5],\n",
    "         ['C', 'C', 'B', 0.5],\n",
    "         ['C', 'C', 'C', 0.0]], [guest_door, prize_door])"
   ]
  },
  {
   "cell_type": "code",
   "execution_count": 5,
   "metadata": {},
   "outputs": [],
   "source": [
    "s1 = pg.Node(guest_door, name=\"guest\")\n",
    "s2 = pg.Node(prize_door, name=\"prize\")\n",
    "s3 = pg.Node(monty_door, name=\"monty\")\n",
    "model = pg.BayesianNetwork(\"Monty Hall Puzzle\")\n",
    "model.add_states([s1, s2, s3])\n",
    "# Now add transitions\n",
    "model.add_transition(s1, s3)\n",
    "model.add_transition(s2, s3)\n",
    "# Finalize structure of network\n",
    "model.bake()"
   ]
  },
  {
   "cell_type": "code",
   "execution_count": 6,
   "metadata": {},
   "outputs": [],
   "source": [
    "def get_observations(model, observation):\n",
    "    beliefs = map(str, model.predict_proba(observation))\n",
    "    return '\\n'.join('{} \\t {}'.format(state.name, belief) for state, belief in zip(model.states, beliefs))"
   ]
  },
  {
   "cell_type": "code",
   "execution_count": 7,
   "metadata": {},
   "outputs": [
    {
     "name": "stdout",
     "output_type": "stream",
     "text": [
      "guest \t {\n",
      "    \"frozen\" :false,\n",
      "    \"class\" :\"Distribution\",\n",
      "    \"parameters\" :[\n",
      "        {\n",
      "            \"A\" :1.0,\n",
      "            \"C\" :0.0,\n",
      "            \"B\" :0.0\n",
      "        }\n",
      "    ],\n",
      "    \"name\" :\"DiscreteDistribution\"\n",
      "}\n",
      "prize \t {\n",
      "    \"frozen\" :false,\n",
      "    \"class\" :\"Distribution\",\n",
      "    \"parameters\" :[\n",
      "        {\n",
      "            \"A\" :0.33333333333333337,\n",
      "            \"C\" :0.33333333333333337,\n",
      "            \"B\" :0.33333333333333337\n",
      "        }\n",
      "    ],\n",
      "    \"name\" :\"DiscreteDistribution\"\n",
      "}\n",
      "monty \t {\n",
      "    \"frozen\" :false,\n",
      "    \"class\" :\"Distribution\",\n",
      "    \"parameters\" :[\n",
      "        {\n",
      "            \"A\" :0.0,\n",
      "            \"C\" :0.5,\n",
      "            \"B\" :0.5\n",
      "        }\n",
      "    ],\n",
      "    \"name\" :\"DiscreteDistribution\"\n",
      "}\n"
     ]
    }
   ],
   "source": [
    "# What is the probability that the game show \n",
    "# guest chooses door 'A'?\n",
    "observations = {'guest': 'A'}\n",
    "guest_observation = get_observations(model, observations)\n",
    "print guest_observation"
   ]
  },
  {
   "cell_type": "code",
   "execution_count": 8,
   "metadata": {},
   "outputs": [
    {
     "name": "stdout",
     "output_type": "stream",
     "text": [
      "guest \t {\n",
      "    \"frozen\" :false,\n",
      "    \"class\" :\"Distribution\",\n",
      "    \"parameters\" :[\n",
      "        {\n",
      "            \"A\" :1.0,\n",
      "            \"C\" :0.0,\n",
      "            \"B\" :0.0\n",
      "        }\n",
      "    ],\n",
      "    \"name\" :\"DiscreteDistribution\"\n",
      "}\n",
      "prize \t {\n",
      "    \"frozen\" :false,\n",
      "    \"class\" :\"Distribution\",\n",
      "    \"parameters\" :[\n",
      "        {\n",
      "            \"A\" :0.3333333333333334,\n",
      "            \"C\" :0.6666666666666666,\n",
      "            \"B\" :0.0\n",
      "        }\n",
      "    ],\n",
      "    \"name\" :\"DiscreteDistribution\"\n",
      "}\n",
      "monty \t {\n",
      "    \"frozen\" :false,\n",
      "    \"class\" :\"Distribution\",\n",
      "    \"parameters\" :[\n",
      "        {\n",
      "            \"A\" :0.0,\n",
      "            \"C\" :0.0,\n",
      "            \"B\" :1.0\n",
      "        }\n",
      "    ],\n",
      "    \"name\" :\"DiscreteDistribution\"\n",
      "}\n"
     ]
    }
   ],
   "source": [
    "# Watch what happens when Monty chooses 'B'; our guest chooses 'A'\n",
    "observations = {'guest': 'A', 'monty': 'B'}\n",
    "guest_monty_observations = get_observations(model, observations)\n",
    "print guest_monty_observations"
   ]
  },
  {
   "cell_type": "code",
   "execution_count": 9,
   "metadata": {},
   "outputs": [
    {
     "name": "stdout",
     "output_type": "stream",
     "text": [
      "guest \t {\n",
      "    \"frozen\" :false,\n",
      "    \"class\" :\"Distribution\",\n",
      "    \"parameters\" :[\n",
      "        {\n",
      "            \"A\" :0.5,\n",
      "            \"C\" :0.5,\n",
      "            \"B\" :0.0\n",
      "        }\n",
      "    ],\n",
      "    \"name\" :\"DiscreteDistribution\"\n",
      "}\n",
      "prize \t {\n",
      "    \"frozen\" :false,\n",
      "    \"class\" :\"Distribution\",\n",
      "    \"parameters\" :[\n",
      "        {\n",
      "            \"A\" :0.5,\n",
      "            \"C\" :0.5,\n",
      "            \"B\" :0.0\n",
      "        }\n",
      "    ],\n",
      "    \"name\" :\"DiscreteDistribution\"\n",
      "}\n",
      "monty \t {\n",
      "    \"frozen\" :false,\n",
      "    \"class\" :\"Distribution\",\n",
      "    \"parameters\" :[\n",
      "        {\n",
      "            \"A\" :0.0,\n",
      "            \"C\" :0.0,\n",
      "            \"B\" :1.0\n",
      "        }\n",
      "    ],\n",
      "    \"name\" :\"DiscreteDistribution\"\n",
      "}\n"
     ]
    }
   ],
   "source": [
    "# What happens if Monty just chooses 'B'?\n",
    "observations = {'monty': 'B'}\n",
    "monty_observations = get_observations(model, observations)\n",
    "print monty_observations"
   ]
  },
  {
   "cell_type": "code",
   "execution_count": 20,
   "metadata": {},
   "outputs": [
    {
     "name": "stderr",
     "output_type": "stream",
     "text": [
      "/Users/blakegage/anaconda/lib/python2.7/site-packages/ipykernel_launcher.py:14: RuntimeWarning: divide by zero encountered in log\n",
      "  \n"
     ]
    }
   ],
   "source": [
    "# Okay - now to the fun part; let's train the model\n",
    "data = [[ 'A', 'B', 'C' ],\n",
    "        [ 'A', 'A', 'C' ],\n",
    "        [ 'A', 'A', 'B' ],\n",
    "        [ 'A', 'A', 'A' ],\n",
    "        [ 'A', 'A', 'C' ],\n",
    "        [ 'B', 'B', 'B' ],\n",
    "        [ 'B', 'A', 'C' ],\n",
    "        [ 'C', 'C', 'A' ],\n",
    "        [ 'C', 'C', 'C' ],\n",
    "        [ 'C', 'C', 'C' ],\n",
    "        [ 'C', 'C', 'C' ],\n",
    "        [ 'C', 'B', 'A' ]]\n",
    "model = model.fit(data)"
   ]
  },
  {
   "cell_type": "code",
   "execution_count": 11,
   "metadata": {},
   "outputs": [
    {
     "name": "stdout",
     "output_type": "stream",
     "text": [
      "C\tC\tC\t0.75\n",
      "C\tC\tB\t0.0\n",
      "C\tC\tA\t0.25\n",
      "C\tB\tC\t0.0\n",
      "C\tB\tB\t0.0\n",
      "C\tB\tA\t1.0\n",
      "C\tA\tC\t0.333333333333\n",
      "C\tA\tB\t0.333333333333\n",
      "C\tA\tA\t0.333333333333\n",
      "B\tC\tC\t0.333333333333\n",
      "B\tC\tB\t0.333333333333\n",
      "B\tC\tA\t0.333333333333\n",
      "B\tB\tC\t0.5\n",
      "B\tB\tB\t0.5\n",
      "B\tB\tA\t0.0\n",
      "B\tA\tC\t0.333333333333\n",
      "B\tA\tB\t0.333333333333\n",
      "B\tA\tA\t0.333333333333\n",
      "A\tC\tC\t0.333333333333\n",
      "A\tC\tB\t0.333333333333\n",
      "A\tC\tA\t0.333333333333\n",
      "A\tB\tC\t0.333333333333\n",
      "A\tB\tB\t0.333333333333\n",
      "A\tB\tA\t0.333333333333\n",
      "A\tA\tC\t0.6\n",
      "A\tA\tB\t0.2\n",
      "A\tA\tA\t0.2\n"
     ]
    }
   ],
   "source": [
    "print monty_door"
   ]
  },
  {
   "cell_type": "code",
   "execution_count": 12,
   "metadata": {},
   "outputs": [
    {
     "name": "stdout",
     "output_type": "stream",
     "text": [
      "{\n",
      "    \"frozen\" :false,\n",
      "    \"class\" :\"Distribution\",\n",
      "    \"parameters\" :[\n",
      "        {\n",
      "            \"A\" :0.4166666666666667,\n",
      "            \"C\" :0.3333333333333333,\n",
      "            \"B\" :0.25\n",
      "        }\n",
      "    ],\n",
      "    \"name\" :\"DiscreteDistribution\"\n",
      "}\n"
     ]
    }
   ],
   "source": [
    "print prize_door"
   ]
  },
  {
   "cell_type": "code",
   "execution_count": 13,
   "metadata": {},
   "outputs": [
    {
     "name": "stdout",
     "output_type": "stream",
     "text": [
      "{\n",
      "    \"frozen\" :false,\n",
      "    \"class\" :\"Distribution\",\n",
      "    \"parameters\" :[\n",
      "        {\n",
      "            \"A\" :0.4166666666666667,\n",
      "            \"C\" :0.4166666666666667,\n",
      "            \"B\" :0.16666666666666666\n",
      "        }\n",
      "    ],\n",
      "    \"name\" :\"DiscreteDistribution\"\n",
      "}\n"
     ]
    }
   ],
   "source": [
    "print guest_door"
   ]
  },
  {
   "cell_type": "code",
   "execution_count": null,
   "metadata": {
    "collapsed": true
   },
   "outputs": [],
   "source": []
  }
 ],
 "metadata": {
  "kernelspec": {
   "display_name": "Python 2",
   "language": "python",
   "name": "python2"
  },
  "language_info": {
   "codemirror_mode": {
    "name": "ipython",
    "version": 2
   },
   "file_extension": ".py",
   "mimetype": "text/x-python",
   "name": "python",
   "nbconvert_exporter": "python",
   "pygments_lexer": "ipython2",
   "version": "2.7.13"
  }
 },
 "nbformat": 4,
 "nbformat_minor": 2
}
